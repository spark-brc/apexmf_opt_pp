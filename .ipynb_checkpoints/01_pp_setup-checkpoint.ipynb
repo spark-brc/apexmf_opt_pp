{
 "cells": [
  {
   "cell_type": "markdown",
   "metadata": {},
   "source": [
    "# Upper Animas PEST Pilot Point Setup"
   ]
  },
  {
   "cell_type": "code",
   "execution_count": null,
   "metadata": {},
   "outputs": [],
   "source": [
    "import sys\n",
    "import numpy as np\n",
    "import pandas as pd\n",
    "import flopy as flopy\n",
    "import pyemu\n",
    "import shapefile #the pyshp module\n",
    "import os\n",
    "import matplotlib.pyplot as plt\n",
    "from apexmf import apexmf_pst_utils, apexmf_pst_par\n",
    "import apexmf\n",
    "apexmf.__version__"
   ]
  },
  {
   "cell_type": "markdown",
   "metadata": {},
   "source": [
    "# 01. Set up and write apexmf.con file"
   ]
  },
  {
   "cell_type": "code",
   "execution_count": null,
   "metadata": {},
   "outputs": [],
   "source": [
    "# working directory and file names\n",
    "wd = \"D:\\\\Workshops\\\\20220419_apexmf_opt\\\\APEX-MODFLOW\"\n",
    "rch_file = 'SITE75.RCH'\n",
    "\n",
    "# calibration period\n",
    "sim_start_day = '1/1/2002'\n",
    "cali_start_day = '1/1/2002'\n",
    "cali_end_day = '12/31/2002'\n",
    "# time step\n",
    "time_step = 'month'\n",
    "# activate river parm\n",
    "riv_parm = 'y'\n",
    "\n",
    "# extract simulation (what our targets)\n",
    "gw_level = 'y'\n",
    "# locations\n",
    "subs = [12, 57, 75]\n",
    "grids = [5895, 6273]\n",
    "\n",
    "\n",
    "# pilot points included\n",
    "pps = ['hk0pp.dat', 'sy0pp.dat']\n",
    "os.chdir(wd)"
   ]
  },
  {
   "cell_type": "code",
   "execution_count": null,
   "metadata": {},
   "outputs": [],
   "source": [
    "con =  apexmf_pst_utils.create_apexmf_con(\n",
    "                        wd, sim_start_day, cali_start_day, cali_end_day,\n",
    "                        rch_file, subs,\n",
    "                        riv_parm=riv_parm,\n",
    "                        gw_level=gw_level,\n",
    "                        grids=grids,\n",
    "                        time_step=time_step,\n",
    "\n",
    "                        pp_included=pps\n",
    "                        )\n",
    "con"
   ]
  },
  {
   "cell_type": "code",
   "execution_count": null,
   "metadata": {},
   "outputs": [],
   "source": []
  },
  {
   "cell_type": "code",
   "execution_count": null,
   "metadata": {},
   "outputs": [],
   "source": [
    "apexmf_pst_utils.init_setup(wd)"
   ]
  },
  {
   "cell_type": "markdown",
   "metadata": {},
   "source": [
    "# 02. MODFLOW parameters with Pilot Points"
   ]
  },
  {
   "cell_type": "code",
   "execution_count": null,
   "metadata": {},
   "outputs": [],
   "source": [
    "# m = flopy.modflow.Modflow.load(fs.MODEL_NAM,model_ws=wd,load_only=[]) #<-- load only prevents reading ibound\n",
    "mfwd = os.path.join(wd, 'MODFLOW')\n",
    "mname = 'mf_1000.nam'\n",
    "m = flopy.modflow.Modflow.load(mname,\n",
    "            model_ws=mfwd\n",
    "            )\n",
    "m.check()"
   ]
  },
  {
   "cell_type": "code",
   "execution_count": null,
   "metadata": {},
   "outputs": [],
   "source": [
    "m.bas6.ibound[0].plot()"
   ]
  },
  {
   "cell_type": "markdown",
   "metadata": {},
   "source": [
    "## Example of pp MODFLOW templates"
   ]
  },
  {
   "cell_type": "code",
   "execution_count": null,
   "metadata": {},
   "outputs": [],
   "source": [
    "# Create pilot points as a shapefile\n",
    "# we want hk pilot points in the top layer...\n",
    "prefix_dict = {0:[\"hk0\"]}\n",
    "df_pp = pyemu.pp_utils.setup_pilotpoints_grid(ml=m,\n",
    "                                              prefix_dict=prefix_dict,\n",
    "                                              pp_dir=wd,\n",
    "                                              tpl_dir=wd,\n",
    "                                              every_n_cell=10,\n",
    "                                              shapename='pp_hk.shp')\n",
    "# pp_file = os.path.join(working_dir,\"sypp.dat\")\n",
    "# assert os.path.exists(pp_file)"
   ]
  },
  {
   "cell_type": "markdown",
   "metadata": {},
   "source": [
    "So cool, we now defined pilot points as a set of spatially distributed parameters...but how do go from pilot points to the model input HK array? Answer: geostatistics.  We need to calculate the geostatistical factors (weights) used to form the interpolated value for the HK value at each model cell - its a spatially-weighted combination of pilot point values"
   ]
  },
  {
   "cell_type": "markdown",
   "metadata": {},
   "source": [
    "## Need to create Kriging factors and regularization inputs\n",
    "Following the guidelines in _Approaches to Highly Parameterized Inversion: Pilot-Point Theory, Guidelines, and Research Directions_ https://pubs.usgs.gov/sir/2010/5168/"
   ]
  },
  {
   "cell_type": "markdown",
   "metadata": {},
   "source": [
    "### First we need to define a couple geostatistical structures (e.g. variograms)\n",
    "\n",
    "From _PEST Groundwater Data Utilities Part A: Overview_ page 43, there are 4 acceptable variogram types:\n",
    "\n",
    " 1. *Spherical*  \n",
    "### $\\gamma\\left(h\\right)=c\\times\\left[1.5\\frac{h}{a}-0.5\\frac{h}{a}^3\\right]$ if $h<a$\n",
    "### $\\gamma\\left(h\\right)=c$ if $h \\ge a$  \n",
    "     \n",
    " 2. *Exponential*  \n",
    "### $\\gamma\\left(h\\right)=c\\times\\left[1-\\exp\\left(-\\frac{h}{a}\\right)\\right]$  \n",
    "     \n",
    " 3. *Gaussian*  \n",
    "### $\\gamma\\left(h\\right)=c\\times\\left[1-\\exp\\left(-\\frac{h^2}{a^2}\\right)\\right]$  \n",
    " \n",
    " 4. *Power*  \n",
    "### $\\gamma\\left(h\\right)=c\\times h^a$\n",
    "     \n",
    " The number refers to `VARTYPE`. `BEARING` and `ANISOTROPY` only apply if there is a principal direction of anisotropy. $h$ is the separation distance, and $a$ is the range, expressed with the `A` parameter.\n"
   ]
  },
  {
   "cell_type": "markdown",
   "metadata": {},
   "source": [
    "### First, let's create ``variogram`` and ``GeoStruct`` objects.  \n",
    "\n",
    "These describe how HK varies spatailly, remember?"
   ]
  },
  {
   "cell_type": "code",
   "execution_count": null,
   "metadata": {},
   "outputs": [],
   "source": [
    "v = pyemu.geostats.ExpVario(contribution=200,a=20100, bearing=0)\n",
    "gs = pyemu.geostats.GeoStruct(variograms=v,nugget=0)\n",
    "ax = gs.plot()\n",
    "ax.grid()"
   ]
  },
  {
   "cell_type": "code",
   "execution_count": null,
   "metadata": {},
   "outputs": [],
   "source": [
    "ok = pyemu.geostats.OrdinaryKrige(gs,df_pp)\n",
    "df = ok.calc_factors_grid(m.sr,\n",
    "                          var_filename= \"hk0pp.var.ref\",\n",
    "#                           var_filename=pst_name.replace(\".pst\",\".var.ref\"),\n",
    "#                           var_filename= ppf[:-3] + \"var.ref\",                          \n",
    "                          minpts_interp=3,\n",
    "                          maxpts_interp=30,\n",
    "                          search_radius=200000.0,\n",
    "                          verbose=True,\n",
    "                          num_threads=12)"
   ]
  },
  {
   "cell_type": "code",
   "execution_count": null,
   "metadata": {},
   "outputs": [],
   "source": [
    "# arr_var = np.loadtxt(pst_name.replace(\".pst\",\".var.ref\"))\n",
    "arr_var = np.loadtxt(\"hk0pp.var.ref\")\n",
    "ax = plt.subplot(111,aspect=\"equal\")\n",
    "p = ax.imshow(arr_var,extent=m.sr.get_extent(),alpha=0.25)\n",
    "plt.colorbar(p)\n",
    "plt.tight_layout()\n",
    "ax.scatter(df_pp.x,df_pp.y,marker='.',s=4,color='r')"
   ]
  },
  {
   "cell_type": "code",
   "execution_count": null,
   "metadata": {},
   "outputs": [],
   "source": [
    "ppf = 'hk0pp.dat'"
   ]
  },
  {
   "cell_type": "code",
   "execution_count": null,
   "metadata": {},
   "outputs": [],
   "source": [
    "ok.to_grid_factors_file(ppf+\".fac\")"
   ]
  },
  {
   "cell_type": "code",
   "execution_count": null,
   "metadata": {},
   "outputs": [],
   "source": [
    "# generate random values\n",
    "df_pp.loc[:,\"parval1\"] = np.random.random(df_pp.shape[0])\n",
    "# save a pilot points file\n",
    "pyemu.pp_utils.write_pp_file(ppf,df_pp)"
   ]
  },
  {
   "cell_type": "code",
   "execution_count": null,
   "metadata": {},
   "outputs": [],
   "source": [
    "# interpolate the pilot point values to the grid\n",
    "hk_arr = pyemu.utils.geostats.fac2real(ppf,factors_file=ppf+\".fac\",out_file=None)"
   ]
  },
  {
   "cell_type": "code",
   "execution_count": null,
   "metadata": {},
   "outputs": [],
   "source": [
    "# plot\n",
    "ax = plt.subplot(111,aspect='equal')\n",
    "ax.imshow(hk_arr,interpolation=\"nearest\",extent=m.sr.get_extent(),alpha=0.5)\n",
    "ax.scatter(df_pp.x,df_pp.y,marker='.',s=4,color='k')"
   ]
  },
  {
   "cell_type": "code",
   "execution_count": null,
   "metadata": {},
   "outputs": [],
   "source": [
    "#THE PREVIOUS CELLS ARE EXAMPLE, THIS CELL IS THE CONTINUATION OF SETUP CODE\n",
    "lyrs = 1\n",
    "cell_nums = [20]\n",
    "hk_prefix = ['hk{}'.format(i) for i in range(lyrs)]\n",
    "sy_prefix = ['sy{}'.format(i) for i in range(lyrs)]"
   ]
  },
  {
   "cell_type": "code",
   "execution_count": null,
   "metadata": {},
   "outputs": [],
   "source": [
    "#LOOP CELL\n",
    "#THIS CELL SHOULD BE REPEATED AS THE NUMBER OF MODFLOW PARAMTER WE WANT TO PREPARE\n",
    "#HERE IS HAS sy_prefix, then we choose the correct contribtion and correct a, then hk and change contribution and a and so on\n",
    "##ss_prefix contribution=2.4e-6;   sy_prefix contribution=0.8;   hk_prefix contribution=200\n",
    "for s, c in zip(hk_prefix, cell_nums):\n",
    "    prefix_dict = {0:[s]}\n",
    "    df_pp = pyemu.pp_utils.setup_pilotpoints_grid(ml=m,\n",
    "                                                  prefix_dict=prefix_dict,\n",
    "                                                  pp_dir=wd,\n",
    "                                                  tpl_dir=wd,\n",
    "                                                  every_n_cell=c,\n",
    "                                                  shapename='pp_{}.shp'.format(s))\n",
    "    v = pyemu.geostats.ExpVario(contribution=200,a=20100)\n",
    "    gs = pyemu.geostats.GeoStruct(variograms=v,nugget=0.0)\n",
    "    ok = pyemu.geostats.OrdinaryKrige(gs,df_pp)\n",
    "    df = ok.calc_factors_grid(\n",
    "                m.sr,\n",
    "                var_filename= \"{}pp.var.ref\".format(s),\n",
    "                minpts_interp=3,\n",
    "                maxpts_interp=30,\n",
    "                search_radius=200000,\n",
    "                verbose=True,\n",
    "                num_threads=12)    \n",
    "    ok.to_grid_factors_file(\"{}pp.dat.fac\".format(s))"
   ]
  },
  {
   "cell_type": "code",
   "execution_count": null,
   "metadata": {},
   "outputs": [],
   "source": [
    "# Create parm template file\n",
    "sw_par = apexmf_pst_par.parm_to_tpl_file()\n",
    "sw_par"
   ]
  },
  {
   "cell_type": "markdown",
   "metadata": {},
   "source": [
    "# Create instruction file for observed depth to water"
   ]
  },
  {
   "cell_type": "code",
   "execution_count": null,
   "metadata": {},
   "outputs": [],
   "source": [
    "os.chdir(wd)"
   ]
  },
  {
   "cell_type": "code",
   "execution_count": null,
   "metadata": {},
   "outputs": [],
   "source": [
    "os.getcwd()"
   ]
  },
  {
   "cell_type": "code",
   "execution_count": null,
   "metadata": {},
   "outputs": [],
   "source": [
    "mf_obs = pd.read_csv(\n",
    "                    \"MODFLOW/modflow.obs\",\n",
    "                    delim_whitespace=True,\n",
    "                    skiprows = 2,\n",
    "                    usecols = [3, 4],\n",
    "                    index_col = 0,\n",
    "                    names = [\"grid_id\", \"mf_elev\"],)\n",
    "grid_ids = mf_obs.index.tolist()"
   ]
  },
  {
   "cell_type": "code",
   "execution_count": null,
   "metadata": {},
   "outputs": [],
   "source": [
    "grid_ids"
   ]
  },
  {
   "cell_type": "code",
   "execution_count": null,
   "metadata": {},
   "outputs": [],
   "source": [
    "apexmf_pst_utils.extract_depth_to_water(grids, sim_start_day, cali_end_day,)"
   ]
  },
  {
   "cell_type": "code",
   "execution_count": null,
   "metadata": {},
   "outputs": [],
   "source": [
    "mfobd_file = 'dtw_day.obd'"
   ]
  },
  {
   "cell_type": "code",
   "execution_count": null,
   "metadata": {},
   "outputs": [],
   "source": [
    "mfobd_df = pd.read_csv(\n",
    "                    \"MODFLOW/\" + mfobd_file,\n",
    "                    delim_whitespace=True,\n",
    "                    index_col=0,\n",
    "                    header=0,\n",
    "                    parse_dates=True,\n",
    "                    na_values=[-999, \"\"])"
   ]
  },
  {
   "cell_type": "code",
   "execution_count": null,
   "metadata": {},
   "outputs": [],
   "source": [
    "apexmf_pst_utils.mf_obd_to_ins('dtw_5895.txt', 'gw_124', sim_start_day, cali_end_day)\n",
    "apexmf_pst_utils.mf_obd_to_ins('dtw_6273.txt', 'gw_098', sim_start_day, cali_end_day)"
   ]
  },
  {
   "cell_type": "code",
   "execution_count": null,
   "metadata": {},
   "outputs": [],
   "source": [
    "os.getcwd()"
   ]
  },
  {
   "cell_type": "markdown",
   "metadata": {},
   "source": [
    "# Create instruction file for streamflow"
   ]
  },
  {
   "cell_type": "code",
   "execution_count": null,
   "metadata": {},
   "outputs": [],
   "source": [
    "# file path\n",
    "rch_file = 'SITE75.RCH'\n",
    "# reach numbers that are used for calibration\n",
    "subs = [12, 57 , 75]"
   ]
  },
  {
   "cell_type": "code",
   "execution_count": null,
   "metadata": {},
   "outputs": [],
   "source": [
    "# extract month_streamflow\n",
    "apexmf_pst_utils.extract_month_stf(rch_file, subs, sim_start_day, cali_start_day, cali_end_day)"
   ]
  },
  {
   "cell_type": "code",
   "execution_count": null,
   "metadata": {},
   "outputs": [],
   "source": [
    "# because we have 3 streamgages let's loop for them\n",
    "# read streamobd and get column names\n",
    "stf_obd = pd.read_csv(\n",
    "                    'stf_mon.obd',\n",
    "                    sep='\\t',\n",
    "                    index_col=0,\n",
    "                    parse_dates=True,\n",
    "                    na_values=[-999, '']\n",
    "                    )\n",
    "obds = stf_obd.columns.tolist()\n",
    "print(obds)\n",
    "sim_files = ['stf_{:03d}.txt'.format(x) for x in subs]\n",
    "print(sim_files)"
   ]
  },
  {
   "cell_type": "code",
   "execution_count": null,
   "metadata": {},
   "outputs": [],
   "source": [
    "stf_obd"
   ]
  },
  {
   "cell_type": "code",
   "execution_count": null,
   "metadata": {},
   "outputs": [],
   "source": [
    "apexmf_pst_utils.stf_obd_to_ins?"
   ]
  },
  {
   "cell_type": "code",
   "execution_count": null,
   "metadata": {},
   "outputs": [],
   "source": [
    "# create instruction files for each sim file\n",
    "for i in range(len(sim_files)):\n",
    "    apexmf_pst_utils.stf_obd_to_ins(sim_files[i], obds[i], sim_start_day, cali_end_day, time_step='month')"
   ]
  },
  {
   "cell_type": "markdown",
   "metadata": {},
   "source": [
    "# 03. Create a control file"
   ]
  },
  {
   "cell_type": "markdown",
   "metadata": {},
   "source": [
    "## Create a dummy pst file "
   ]
  },
  {
   "cell_type": "code",
   "execution_count": null,
   "metadata": {},
   "outputs": [],
   "source": [
    "io_files = pyemu.helpers.parse_dir_for_io_files('.')\n",
    "pst = pyemu.Pst.from_io_files(*io_files)\n",
    "pyemu.helpers.pst_from_io_files(io_files[0], io_files[1], io_files[2], io_files[3], 'ani_dummy.pst')\n",
    "\n",
    "# print(os.chdir(\"..\"))\n",
    "io_files"
   ]
  },
  {
   "cell_type": "code",
   "execution_count": null,
   "metadata": {},
   "outputs": [],
   "source": [
    "# load the pre-constructed pst\n",
    "# pst = pyemu.Pst(os.path.join(wd, 'ani_dummy.pst'))"
   ]
  },
  {
   "cell_type": "code",
   "execution_count": null,
   "metadata": {},
   "outputs": [],
   "source": [
    "par = pst.parameter_data"
   ]
  },
  {
   "cell_type": "code",
   "execution_count": null,
   "metadata": {},
   "outputs": [],
   "source": [
    "par"
   ]
  },
  {
   "cell_type": "code",
   "execution_count": null,
   "metadata": {},
   "outputs": [],
   "source": [
    "for i in range(len(par)):\n",
    "    if (par.iloc[i, 0][:2]) == 'sy':\n",
    "        par.iloc[i, 6] = 'sy'\n",
    "    elif par.iloc[i, 0][:2] == 'hk':\n",
    "        par.iloc[i, 6] = 'hk'\n",
    "    elif par.iloc[i, 0][:1] == 'p':\n",
    "        par.iloc[i, 6] = 'apex'\n"
   ]
  },
  {
   "cell_type": "code",
   "execution_count": null,
   "metadata": {},
   "outputs": [],
   "source": [
    "par.index.rename('parnme1', inplace=True)"
   ]
  },
  {
   "cell_type": "code",
   "execution_count": null,
   "metadata": {},
   "outputs": [],
   "source": [
    "par = par.sort_values(by=['pargp', 'parnme'])\n",
    "par"
   ]
  },
  {
   "cell_type": "code",
   "execution_count": null,
   "metadata": {},
   "outputs": [],
   "source": [
    "for i in range(len(par)):\n",
    "    if par.iloc[i, 6] == 'sy':\n",
    "        par.iloc[i, 3] = 1.000000e-01 \n",
    "        par.iloc[i, 4] = 1.000000e-03\n",
    "        par.iloc[i, 5] = 0.800000e+00  \n",
    "    elif par.iloc[i, 6] == 'hk':\n",
    "        par.iloc[i, 3] = 1.000000e-01 \n",
    "        par.iloc[i, 4] = 1.000000e-02\n",
    "        par.iloc[i, 5] = 5.000000e+02"
   ]
  },
  {
   "cell_type": "code",
   "execution_count": null,
   "metadata": {},
   "outputs": [],
   "source": [
    "par"
   ]
  },
  {
   "cell_type": "code",
   "execution_count": null,
   "metadata": {},
   "outputs": [],
   "source": [
    "# APEX\n",
    "pst.parameter_data = apexmf_pst_par.export_pardb_pest(par)"
   ]
  },
  {
   "cell_type": "code",
   "execution_count": null,
   "metadata": {},
   "outputs": [],
   "source": [
    "par = pst.parameter_data\n",
    "par"
   ]
  },
  {
   "cell_type": "code",
   "execution_count": null,
   "metadata": {},
   "outputs": [],
   "source": [
    "obd = pst.observation_data\n",
    "obd"
   ]
  },
  {
   "cell_type": "code",
   "execution_count": null,
   "metadata": {},
   "outputs": [],
   "source": [
    "for i in range(len(obd)):\n",
    "    if obd.iloc[i, 0][:2] == 'gw':\n",
    "        obd.iloc[i, 3] = obd.iloc[i, 0][:6]\n",
    "    else:\n",
    "        obd.iloc[i, 3] = obd.iloc[i, 0][:7]"
   ]
  },
  {
   "cell_type": "code",
   "execution_count": null,
   "metadata": {},
   "outputs": [],
   "source": [
    "print(obd)"
   ]
  },
  {
   "cell_type": "markdown",
   "metadata": {},
   "source": [
    "## 2.3. Import measured data"
   ]
  },
  {
   "cell_type": "code",
   "execution_count": null,
   "metadata": {},
   "outputs": [],
   "source": [
    "gwt_obd = pd.read_csv('MODFLOW/dtw_day.obd',\n",
    "                       sep='\\t',\n",
    "                       index_col = 0,\n",
    "                       parse_dates = True,\n",
    "                       usecols=[0, 3, 4],\n",
    "                       na_values=[-999, '']\n",
    "                     )\n",
    "gwt_obd = gwt_obd[sim_start_day:cali_end_day]\n",
    "gwt_obd = gwt_obd.dropna(axis=1, how='all')\n",
    "\n",
    "gwt_obd\n"
   ]
  },
  {
   "cell_type": "code",
   "execution_count": null,
   "metadata": {},
   "outputs": [],
   "source": [
    "# gwt_obd = gwt_obd[gwtcols]\n",
    "gwt_obd = gwt_obd.reindex(sorted(gwt_obd.columns), axis=1)\n",
    "gwt_obd"
   ]
  },
  {
   "cell_type": "code",
   "execution_count": null,
   "metadata": {},
   "outputs": [],
   "source": [
    "stf_obd = pd.read_csv(\n",
    "    'stf_mon.obd',\n",
    "    sep='\\t',\n",
    "    index_col = 0,\n",
    "    parse_dates = True,\n",
    "    na_values=[-999, '']\n",
    ")\n",
    "stf_obd = stf_obd[sim_start_day:cali_end_day]\n",
    "stf_obd =  stf_obd.reindex(sorted(stf_obd.columns), axis=1)\n",
    "stf_obd"
   ]
  },
  {
   "cell_type": "code",
   "execution_count": null,
   "metadata": {},
   "outputs": [],
   "source": [
    "# Get sub list based on obd order\n",
    "sub_order = []\n",
    "for i in obd.obgnme.tolist():\n",
    "    if i not in sub_order:\n",
    "        sub_order.append(i)\n",
    "sub_order"
   ]
  },
  {
   "cell_type": "code",
   "execution_count": null,
   "metadata": {},
   "outputs": [],
   "source": [
    "# get total list from each sub obd, delete na vals\n",
    "tot_obd = []\n",
    "for i in sub_order[:2]:\n",
    "    tot_obd += gwt_obd[i].dropna().tolist()\n",
    "for j in sub_order[2:]:\n",
    "    tot_obd += stf_obd[j].dropna().tolist()    \n",
    "len(tot_obd)"
   ]
  },
  {
   "cell_type": "code",
   "execution_count": null,
   "metadata": {},
   "outputs": [],
   "source": [
    "obd.loc[:, 'obsval'] = tot_obd\n",
    "obd"
   ]
  },
  {
   "cell_type": "code",
   "execution_count": null,
   "metadata": {},
   "outputs": [],
   "source": []
  },
  {
   "cell_type": "markdown",
   "metadata": {},
   "source": [
    "# 4. Export control file"
   ]
  },
  {
   "cell_type": "code",
   "execution_count": null,
   "metadata": {},
   "outputs": [],
   "source": [
    "pst.control_data.noptmax=0\n",
    "pst.model_command = 'python forward_run.py'\n",
    "pst.model_input_data = apexmf_pst_utils.modify_mf_tpl_path(pst.model_input_data)\n",
    "pst.write('animas_pest.pst')"
   ]
  },
  {
   "cell_type": "code",
   "execution_count": null,
   "metadata": {},
   "outputs": [],
   "source": []
  }
 ],
 "metadata": {
  "anaconda-cloud": {},
  "interpreter": {
   "hash": "e2cd4a2c4044a442375d541a7af880af35b9f88daa7fc56a2d2af487495916f8"
  },
  "kernelspec": {
   "display_name": "Python 3",
   "language": "python",
   "name": "python3"
  },
  "language_info": {
   "codemirror_mode": {
    "name": "ipython",
    "version": 3
   },
   "file_extension": ".py",
   "mimetype": "text/x-python",
   "name": "python",
   "nbconvert_exporter": "python",
   "pygments_lexer": "ipython3",
   "version": "3.7.12"
  }
 },
 "nbformat": 4,
 "nbformat_minor": 4
}
